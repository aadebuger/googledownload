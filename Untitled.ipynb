{
 "cells": [
  {
   "cell_type": "code",
   "execution_count": 6,
   "metadata": {},
   "outputs": [],
   "source": [
    "from minio import Minio\n",
    "from minio.error import (ResponseError, BucketAlreadyOwnedByYou,\n",
    "                         BucketAlreadyExists)\n",
    "def  uploadfile(filename,filepath):\n",
    "    print(\"uploadfile\")\n",
    "# Initialize minioClient with an endpoint and access/secret keys.\n",
    "    minioClient = Minio('ethbi.io:9000',\n",
    "                    access_key='H3Y8PVYRSOG8X6DCJI1L',\n",
    "                    secret_key='/BbCja6cAM+oD36zVTEOtz4OzzTnWeUsL3CdNPKw',\n",
    "                    secure=False)\n",
    "# Put an object 'pumaserver_debug.log' with contents from 'pumaserver_debug.log'.\n",
    "    try:\n",
    "           minioClient.fput_object('googledoc',filename,  filepath)\n",
    "    except ResponseError as err:\n",
    "           print(err)"
   ]
  },
  {
   "cell_type": "code",
   "execution_count": 7,
   "metadata": {},
   "outputs": [
    {
     "name": "stdout",
     "output_type": "stream",
     "text": [
      "uploadfile\n"
     ]
    }
   ],
   "source": [
    "uploadfile('DAIN_APPAlpha0.1.rar','/root/cloud2020/googledocdownload/DAIN_APPAlpha0.1.rar')"
   ]
  },
  {
   "cell_type": "code",
   "execution_count": null,
   "metadata": {},
   "outputs": [],
   "source": []
  }
 ],
 "metadata": {
  "kernelspec": {
   "display_name": "Python 3",
   "language": "python",
   "name": "python3"
  },
  "language_info": {
   "codemirror_mode": {
    "name": "ipython",
    "version": 3
   },
   "file_extension": ".py",
   "mimetype": "text/x-python",
   "name": "python",
   "nbconvert_exporter": "python",
   "pygments_lexer": "ipython3",
   "version": "3.5.2"
  }
 },
 "nbformat": 4,
 "nbformat_minor": 4
}
